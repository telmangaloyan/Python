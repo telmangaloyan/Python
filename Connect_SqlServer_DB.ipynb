{
 "cells": [
  {
   "cell_type": "code",
   "execution_count": 10,
   "metadata": {},
   "outputs": [],
   "source": [
    "from sqlalchemy import create_engine\n",
    "import pandas as pd\n",
    "servername = 'DESKTOP-QLN60NO\\SQLEXPRESS01'\n",
    "dbname = 'WWI'\n",
    "enginr_str = 'mssql+pyodbc://@' + servername + '/'  + dbname + '?trusted_connection=yes&driver=ODBC+Driver+17+for+SQL+Server'\n",
    "engine = create_engine(enginr_str)\n",
    "connection = engine.connect()\n",
    "result = connection.execute(\"Select * From DimEmployee\")\n",
    "df = pd.DataFrame(result.fetchall())\n",
    "connection.close()\n"
   ]
  }
 ],
 "metadata": {
  "kernelspec": {
   "display_name": "base",
   "language": "python",
   "name": "python3"
  },
  "language_info": {
   "codemirror_mode": {
    "name": "ipython",
    "version": 3
   },
   "file_extension": ".py",
   "mimetype": "text/x-python",
   "name": "python",
   "nbconvert_exporter": "python",
   "pygments_lexer": "ipython3",
   "version": "3.9.13"
  }
 },
 "nbformat": 4,
 "nbformat_minor": 2
}
